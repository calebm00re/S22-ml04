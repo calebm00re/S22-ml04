{
 "cells": [
  {
   "attachments": {},
   "cell_type": "markdown",
   "metadata": {},
   "source": [
    "# Lab Four: Multi-Layer Perceptron\n",
    "## Caleb Moore, Blake Gebhardt, Christian Gould\n",
    "dataset: https://www.kaggle.com/datasets/muonneutrino/us-census-demographic-data\n",
    "\n",
    "The classification task you will be performing is to predict, for each county, what the child poverty rate will be. You will need to convert this from regression to four levels of classification by quantizing the variable of interest. "
   ]
  },
  {
   "cell_type": "code",
   "execution_count": 609,
   "metadata": {},
   "outputs": [],
   "source": [
    "# Imports\n",
    "import pandas as pd\n",
    "import numpy as np\n",
    "from sklearn.model_selection import train_test_split\n",
    "from sklearn import svm\n",
    "from sklearn import datasets\n",
    "from numpy.linalg import pinv\n",
    "import time\n",
    "import matplotlib.pyplot as plt\n",
    "from sklearn.datasets import load_digits\n",
    "from sklearn.metrics import accuracy_score\n",
    "from sklearn.preprocessing import StandardScaler"
   ]
  },
  {
   "cell_type": "code",
   "execution_count": 610,
   "metadata": {},
   "outputs": [
    {
     "data": {
      "text/html": [
       "<script>\n",
       "code_show_err=false; \n",
       "function code_toggle_err() {\n",
       " if (code_show_err){\n",
       " $('div.output_stderr').hide();\n",
       " } else {\n",
       " $('div.output_stderr').show();\n",
       " }\n",
       " code_show_err = !code_show_err\n",
       "} \n",
       "$( document ).ready(code_toggle_err);\n",
       "</script>\n",
       "To toggle on/off output_stderr, click <a href=\"javascript:code_toggle_err()\">here</a>."
      ],
      "text/plain": [
       "<IPython.core.display.HTML object>"
      ]
     },
     "execution_count": 610,
     "metadata": {},
     "output_type": "execute_result"
    }
   ],
   "source": [
    "# Notebook setup\n",
    "from IPython.display import HTML\n",
    "HTML('''<script>\n",
    "code_show_err=false; \n",
    "function code_toggle_err() {\n",
    " if (code_show_err){\n",
    " $('div.output_stderr').hide();\n",
    " } else {\n",
    " $('div.output_stderr').show();\n",
    " }\n",
    " code_show_err = !code_show_err\n",
    "} \n",
    "$( document ).ready(code_toggle_err);\n",
    "</script>\n",
    "To toggle on/off output_stderr, click <a href=\"javascript:code_toggle_err()\">here</a>.''')"
   ]
  },
  {
   "attachments": {},
   "cell_type": "markdown",
   "metadata": {},
   "source": [
    "# Load, Split, and Balance (1.5 points total)\n",
    "[.5 points] (1) Load the data into memory and save it to a pandas data frame. Do not normalize or one-hot encode any of the features until asked to do so later in the rubric. (2) Remove any observations that having missing data. (3) Encode any string data as integers for now. (4) You have the option of keeping the \"county\" variable or removing it. Be sure to discuss why you decided to keep/remove this variable."
   ]
  },
  {
   "cell_type": "code",
   "execution_count": 611,
   "metadata": {},
   "outputs": [
    {
     "data": {
      "text/html": [
       "<div>\n",
       "<style scoped>\n",
       "    .dataframe tbody tr th:only-of-type {\n",
       "        vertical-align: middle;\n",
       "    }\n",
       "\n",
       "    .dataframe tbody tr th {\n",
       "        vertical-align: top;\n",
       "    }\n",
       "\n",
       "    .dataframe thead th {\n",
       "        text-align: right;\n",
       "    }\n",
       "</style>\n",
       "<table border=\"1\" class=\"dataframe\">\n",
       "  <thead>\n",
       "    <tr style=\"text-align: right;\">\n",
       "      <th></th>\n",
       "      <th>CensusId</th>\n",
       "      <th>State</th>\n",
       "      <th>County</th>\n",
       "      <th>TotalPop</th>\n",
       "      <th>Men</th>\n",
       "      <th>Women</th>\n",
       "      <th>Hispanic</th>\n",
       "      <th>White</th>\n",
       "      <th>Black</th>\n",
       "      <th>Native</th>\n",
       "      <th>...</th>\n",
       "      <th>Walk</th>\n",
       "      <th>OtherTransp</th>\n",
       "      <th>WorkAtHome</th>\n",
       "      <th>MeanCommute</th>\n",
       "      <th>Employed</th>\n",
       "      <th>PrivateWork</th>\n",
       "      <th>PublicWork</th>\n",
       "      <th>SelfEmployed</th>\n",
       "      <th>FamilyWork</th>\n",
       "      <th>Unemployment</th>\n",
       "    </tr>\n",
       "  </thead>\n",
       "  <tbody>\n",
       "    <tr>\n",
       "      <th>0</th>\n",
       "      <td>1001</td>\n",
       "      <td>Alabama</td>\n",
       "      <td>Autauga</td>\n",
       "      <td>55221</td>\n",
       "      <td>26745</td>\n",
       "      <td>28476</td>\n",
       "      <td>2.6</td>\n",
       "      <td>75.8</td>\n",
       "      <td>18.5</td>\n",
       "      <td>0.4</td>\n",
       "      <td>...</td>\n",
       "      <td>0.5</td>\n",
       "      <td>1.3</td>\n",
       "      <td>1.8</td>\n",
       "      <td>26.5</td>\n",
       "      <td>23986</td>\n",
       "      <td>73.6</td>\n",
       "      <td>20.9</td>\n",
       "      <td>5.5</td>\n",
       "      <td>0.0</td>\n",
       "      <td>7.6</td>\n",
       "    </tr>\n",
       "    <tr>\n",
       "      <th>1</th>\n",
       "      <td>1003</td>\n",
       "      <td>Alabama</td>\n",
       "      <td>Baldwin</td>\n",
       "      <td>195121</td>\n",
       "      <td>95314</td>\n",
       "      <td>99807</td>\n",
       "      <td>4.5</td>\n",
       "      <td>83.1</td>\n",
       "      <td>9.5</td>\n",
       "      <td>0.6</td>\n",
       "      <td>...</td>\n",
       "      <td>1.0</td>\n",
       "      <td>1.4</td>\n",
       "      <td>3.9</td>\n",
       "      <td>26.4</td>\n",
       "      <td>85953</td>\n",
       "      <td>81.5</td>\n",
       "      <td>12.3</td>\n",
       "      <td>5.8</td>\n",
       "      <td>0.4</td>\n",
       "      <td>7.5</td>\n",
       "    </tr>\n",
       "    <tr>\n",
       "      <th>2</th>\n",
       "      <td>1005</td>\n",
       "      <td>Alabama</td>\n",
       "      <td>Barbour</td>\n",
       "      <td>26932</td>\n",
       "      <td>14497</td>\n",
       "      <td>12435</td>\n",
       "      <td>4.6</td>\n",
       "      <td>46.2</td>\n",
       "      <td>46.7</td>\n",
       "      <td>0.2</td>\n",
       "      <td>...</td>\n",
       "      <td>1.8</td>\n",
       "      <td>1.5</td>\n",
       "      <td>1.6</td>\n",
       "      <td>24.1</td>\n",
       "      <td>8597</td>\n",
       "      <td>71.8</td>\n",
       "      <td>20.8</td>\n",
       "      <td>7.3</td>\n",
       "      <td>0.1</td>\n",
       "      <td>17.6</td>\n",
       "    </tr>\n",
       "    <tr>\n",
       "      <th>3</th>\n",
       "      <td>1007</td>\n",
       "      <td>Alabama</td>\n",
       "      <td>Bibb</td>\n",
       "      <td>22604</td>\n",
       "      <td>12073</td>\n",
       "      <td>10531</td>\n",
       "      <td>2.2</td>\n",
       "      <td>74.5</td>\n",
       "      <td>21.4</td>\n",
       "      <td>0.4</td>\n",
       "      <td>...</td>\n",
       "      <td>0.6</td>\n",
       "      <td>1.5</td>\n",
       "      <td>0.7</td>\n",
       "      <td>28.8</td>\n",
       "      <td>8294</td>\n",
       "      <td>76.8</td>\n",
       "      <td>16.1</td>\n",
       "      <td>6.7</td>\n",
       "      <td>0.4</td>\n",
       "      <td>8.3</td>\n",
       "    </tr>\n",
       "    <tr>\n",
       "      <th>4</th>\n",
       "      <td>1009</td>\n",
       "      <td>Alabama</td>\n",
       "      <td>Blount</td>\n",
       "      <td>57710</td>\n",
       "      <td>28512</td>\n",
       "      <td>29198</td>\n",
       "      <td>8.6</td>\n",
       "      <td>87.9</td>\n",
       "      <td>1.5</td>\n",
       "      <td>0.3</td>\n",
       "      <td>...</td>\n",
       "      <td>0.9</td>\n",
       "      <td>0.4</td>\n",
       "      <td>2.3</td>\n",
       "      <td>34.9</td>\n",
       "      <td>22189</td>\n",
       "      <td>82.0</td>\n",
       "      <td>13.5</td>\n",
       "      <td>4.2</td>\n",
       "      <td>0.4</td>\n",
       "      <td>7.7</td>\n",
       "    </tr>\n",
       "  </tbody>\n",
       "</table>\n",
       "<p>5 rows × 37 columns</p>\n",
       "</div>"
      ],
      "text/plain": [
       "   CensusId    State   County  TotalPop    Men  Women  Hispanic  White  Black  \\\n",
       "0      1001  Alabama  Autauga     55221  26745  28476       2.6   75.8   18.5   \n",
       "1      1003  Alabama  Baldwin    195121  95314  99807       4.5   83.1    9.5   \n",
       "2      1005  Alabama  Barbour     26932  14497  12435       4.6   46.2   46.7   \n",
       "3      1007  Alabama     Bibb     22604  12073  10531       2.2   74.5   21.4   \n",
       "4      1009  Alabama   Blount     57710  28512  29198       8.6   87.9    1.5   \n",
       "\n",
       "   Native  ...  Walk  OtherTransp  WorkAtHome  MeanCommute  Employed  \\\n",
       "0     0.4  ...   0.5          1.3         1.8         26.5     23986   \n",
       "1     0.6  ...   1.0          1.4         3.9         26.4     85953   \n",
       "2     0.2  ...   1.8          1.5         1.6         24.1      8597   \n",
       "3     0.4  ...   0.6          1.5         0.7         28.8      8294   \n",
       "4     0.3  ...   0.9          0.4         2.3         34.9     22189   \n",
       "\n",
       "   PrivateWork  PublicWork  SelfEmployed  FamilyWork  Unemployment  \n",
       "0         73.6        20.9           5.5         0.0           7.6  \n",
       "1         81.5        12.3           5.8         0.4           7.5  \n",
       "2         71.8        20.8           7.3         0.1          17.6  \n",
       "3         76.8        16.1           6.7         0.4           8.3  \n",
       "4         82.0        13.5           4.2         0.4           7.7  \n",
       "\n",
       "[5 rows x 37 columns]"
      ]
     },
     "execution_count": 611,
     "metadata": {},
     "output_type": "execute_result"
    }
   ],
   "source": [
    "# part one\n",
    "df = pd.read_csv('./data/acs2015_county_data.csv')\n",
    "df.head()"
   ]
  },
  {
   "cell_type": "code",
   "execution_count": 612,
   "metadata": {},
   "outputs": [
    {
     "name": "stdout",
     "output_type": "stream",
     "text": [
      "(3220, 37)\n"
     ]
    },
    {
     "data": {
      "text/plain": [
       "(3218, 37)"
      ]
     },
     "execution_count": 612,
     "metadata": {},
     "output_type": "execute_result"
    }
   ],
   "source": [
    "# part two \n",
    "print(df.shape)\n",
    "df.dropna(inplace=True)\n",
    "df.shape\n",
    "# nice, not many missing values"
   ]
  },
  {
   "cell_type": "code",
   "execution_count": 613,
   "metadata": {},
   "outputs": [
    {
     "data": {
      "text/plain": [
       "CensusId             int64\n",
       "State               object\n",
       "County              object\n",
       "TotalPop             int64\n",
       "Men                  int64\n",
       "Women                int64\n",
       "Hispanic           float64\n",
       "White              float64\n",
       "Black              float64\n",
       "Native             float64\n",
       "Asian              float64\n",
       "Pacific            float64\n",
       "Citizen              int64\n",
       "Income             float64\n",
       "IncomeErr          float64\n",
       "IncomePerCap         int64\n",
       "IncomePerCapErr      int64\n",
       "Poverty            float64\n",
       "ChildPoverty       float64\n",
       "Professional       float64\n",
       "Service            float64\n",
       "Office             float64\n",
       "Construction       float64\n",
       "Production         float64\n",
       "Drive              float64\n",
       "Carpool            float64\n",
       "Transit            float64\n",
       "Walk               float64\n",
       "OtherTransp        float64\n",
       "WorkAtHome         float64\n",
       "MeanCommute        float64\n",
       "Employed             int64\n",
       "PrivateWork        float64\n",
       "PublicWork         float64\n",
       "SelfEmployed       float64\n",
       "FamilyWork         float64\n",
       "Unemployment       float64\n",
       "dtype: object"
      ]
     },
     "execution_count": 613,
     "metadata": {},
     "output_type": "execute_result"
    }
   ],
   "source": [
    "# part three \n",
    "df.dtypes\n",
    "# lets take a better look at those state values"
   ]
  },
  {
   "cell_type": "code",
   "execution_count": 614,
   "metadata": {},
   "outputs": [
    {
     "name": "stdout",
     "output_type": "stream",
     "text": [
      "number of states 52\n"
     ]
    }
   ],
   "source": [
    "print('number of states', len(df.State.unique()))\n",
    "df.State.unique()\n",
    "# States are redundant, since we have the county name, we can drop state\n",
    "df.drop('State', axis=1, inplace=True)"
   ]
  },
  {
   "cell_type": "code",
   "execution_count": 615,
   "metadata": {},
   "outputs": [
    {
     "data": {
      "text/plain": [
       "CensusId             int64\n",
       "County              object\n",
       "TotalPop             int64\n",
       "Men                  int64\n",
       "Women                int64\n",
       "Hispanic           float64\n",
       "White              float64\n",
       "Black              float64\n",
       "Native             float64\n",
       "Asian              float64\n",
       "Pacific            float64\n",
       "Citizen              int64\n",
       "Income             float64\n",
       "IncomeErr          float64\n",
       "IncomePerCap         int64\n",
       "IncomePerCapErr      int64\n",
       "Poverty            float64\n",
       "ChildPoverty       float64\n",
       "Professional       float64\n",
       "Service            float64\n",
       "Office             float64\n",
       "Construction       float64\n",
       "Production         float64\n",
       "Drive              float64\n",
       "Carpool            float64\n",
       "Transit            float64\n",
       "Walk               float64\n",
       "OtherTransp        float64\n",
       "WorkAtHome         float64\n",
       "MeanCommute        float64\n",
       "Employed             int64\n",
       "PrivateWork        float64\n",
       "PublicWork         float64\n",
       "SelfEmployed       float64\n",
       "FamilyWork         float64\n",
       "Unemployment       float64\n",
       "dtype: object"
      ]
     },
     "execution_count": 615,
     "metadata": {},
     "output_type": "execute_result"
    }
   ],
   "source": [
    "# double checking the dtypes\n",
    "df.dtypes"
   ]
  },
  {
   "cell_type": "code",
   "execution_count": 616,
   "metadata": {},
   "outputs": [
    {
     "name": "stdout",
     "output_type": "stream",
     "text": [
      "number of counties 1926\n"
     ]
    },
    {
     "data": {
      "text/plain": [
       "array(['Autauga', 'Baldwin', 'Barbour', ..., 'Villalba', 'Yabucoa',\n",
       "       'Yauco'], dtype=object)"
      ]
     },
     "execution_count": 616,
     "metadata": {},
     "output_type": "execute_result"
    }
   ],
   "source": [
    "# part four\n",
    "print('number of counties', len(df.County.unique()))\n",
    "df.County.unique()"
   ]
  },
  {
   "cell_type": "code",
   "execution_count": 617,
   "metadata": {},
   "outputs": [],
   "source": [
    "# Encode the counties\n",
    "\n",
    "# lets encode them\n",
    "initial_list = df.County.unique()\n",
    "codes = {initial_list[i]: i for i in range(len(initial_list))}\n",
    "\n",
    "df = df.replace(codes)"
   ]
  },
  {
   "attachments": {},
   "cell_type": "markdown",
   "metadata": {},
   "source": [
    "[.5 points] Balance the dataset so that about the same number of instances are within each class. Choose a method for balancing the dataset and explain your reasoning for selecting this method. One option is to choose quantization thresholds for the \"ChildPoverty\" variable that equally divide the data into four classes. Should balancing of the dataset be done for both the training and testing set? Explain."
   ]
  },
  {
   "cell_type": "code",
   "execution_count": 618,
   "metadata": {},
   "outputs": [
    {
     "name": "stdout",
     "output_type": "stream",
     "text": [
      "there are 544 different ChildPoverty values\n",
      "we will want 804 ish instances in each class to create somewhat equal quartiles\n",
      "third_quartile     871\n",
      "first_quartile     807\n",
      "fourth_quartile    778\n",
      "second_quartile    762\n",
      "Name: poverty_quartile, dtype: int64\n"
     ]
    }
   ],
   "source": [
    "print('there are',len(df[\"ChildPoverty\"].unique()), 'different ChildPoverty values')\n",
    "# lets try and simplify those into four classes\n",
    "print('we will want',int(len(df)/4), 'ish instances in each class to create somewhat equal quartiles')\n",
    "\n",
    "def categorise(row):  \n",
    "    if row['ChildPoverty'] > 0 and row['ChildPoverty'] <= 16:\n",
    "        return 'fourth_quartile'\n",
    "    elif row['ChildPoverty'] > 16 and row['ChildPoverty'] <= 23:\n",
    "        return 'third_quartile'\n",
    "    elif row['ChildPoverty'] > 23  and row['ChildPoverty'] <= 30:\n",
    "        return 'second_quartile'\n",
    "    return 'first_quartile'\n",
    "\n",
    "df['poverty_quartile'] = df.apply(lambda row: categorise(row), axis=1)\n",
    "\n",
    "print(df['poverty_quartile'].value_counts())\n",
    "# yes, we will want to balance on the set as a whole to ensure we do not skew our model compared to what it is going to attempt to predict"
   ]
  },
  {
   "attachments": {},
   "cell_type": "markdown",
   "metadata": {},
   "source": [
    "[.5 points] Assume you are equally interested in the classification performance for each class in the dataset. Split the dataset into 80% for training and 20% for testing. There is NO NEED to split the data multiple times for this lab.\n",
    "\n",
    "Note: You will need to one hot encode the target, but do not one hot encode the categorical data until instructed to do so in the lab. "
   ]
  },
  {
   "cell_type": "code",
   "execution_count": 619,
   "metadata": {},
   "outputs": [
    {
     "name": "stdout",
     "output_type": "stream",
     "text": [
      "(2574, 35)\n",
      "(2574, 4)\n",
      "(644, 35)\n",
      "(644, 4)\n"
     ]
    }
   ],
   "source": [
    "y = df['poverty_quartile']\n",
    "#one hot encode the poverty quartile\n",
    "y = pd.get_dummies(y)\n",
    "\n",
    "X_train, X_test, y_train, y_test = train_test_split(df.drop(columns=['poverty_quartile', 'ChildPoverty']), y, test_size=0.20, random_state=1)\n",
    "print(X_train.shape)\n",
    "print(y_train.shape)\n",
    "print(X_test.shape)\n",
    "print(y_test.shape)"
   ]
  },
  {
   "attachments": {},
   "cell_type": "markdown",
   "metadata": {},
   "source": [
    "# Pre-processing and Initial Modeling (2.5 points total)\n",
    "You will be using a two layer perceptron from class for the next few parts of the rubric. There are several versions of the two layer perceptron covered in class, with example code. When selecting an example two layer network from class be sure that you use: (1) vectorized gradient computation, (2) mini-batching, (3) cross entropy loss, and (4) proper Glorot initialization, at a minimum. There is no need to use momentum or learning rate reduction (assuming you choose a sufficiently small learning rate). It is recommended to use sigmoids throughout the network, but not required."
   ]
  },
  {
   "attachments": {},
   "cell_type": "markdown",
   "metadata": {},
   "source": [
    "[.5 points] Use the example two-layer perceptron network from the class example and quantify performance using accuracy. Do not normalize or one-hot encode the data (not yet). Be sure that training converges by graphing the loss function versus the number of epochs. "
   ]
  },
  {
   "cell_type": "markdown",
   "metadata": {},
   "source": [
    "The following code is take from Dr. Larsen's Notebook 7.\n"
   ]
  },
  {
   "cell_type": "code",
   "execution_count": 620,
   "metadata": {},
   "outputs": [],
   "source": [
    "import numpy as np\n",
    "from scipy.special import expit\n",
    "import sys\n",
    "import pandas as pd\n",
    "\n",
    "# start with a simple base classifier, which can't be fit or predicted\n",
    "# it only has internal classes to be used by classes that will subclass it\n",
    "# Start with the following functions:\n",
    "#    init\n",
    "#    encode_labels\n",
    "#    initialize weights\n",
    "#    sigmoid\n",
    "#    add bias (vector of ones)\n",
    "#    objective function (cost and regularizer)\n",
    "class TwoLayerPerceptronBase(object):\n",
    "    def __init__(self, n_hidden=30,\n",
    "                 C=0.0, epochs=500, eta=0.001, random_state=None):\n",
    "        np.random.seed(random_state)\n",
    "        self.n_hidden = n_hidden\n",
    "        self.l2_C = C\n",
    "        self.epochs = epochs\n",
    "        self.eta = eta\n",
    "        \n",
    "    @staticmethod\n",
    "    def _encode_labels(y):\n",
    "        \"\"\"Encode labels into one-hot representation\"\"\"\n",
    "        onehot = pd.get_dummies(y).values.T\n",
    "            \n",
    "        return onehot\n",
    "\n",
    "    def _initialize_weights(self):\n",
    "        \"\"\"Initialize weights with small random numbers.\"\"\"\n",
    "        W1_num_elems = (self.n_features_ + 1)*self.n_hidden\n",
    "        W1 = np.random.uniform(-1.0, 1.0, size=W1_num_elems)\n",
    "        W1 = W1.reshape(self.n_hidden, self.n_features_ + 1) # reshape to be W\n",
    "        \n",
    "        W2_num_elems = (self.n_hidden + 1)*self.n_output_\n",
    "        W2 = np.random.uniform(-1.0, 1.0, size=W2_num_elems)\n",
    "        W2 = W2.reshape(self.n_output_, self.n_hidden + 1)\n",
    "        return W1, W2\n",
    "    \n",
    "    @staticmethod\n",
    "    def _sigmoid(z):\n",
    "        \"\"\"Use scipy.special.expit to avoid overflow\"\"\"\n",
    "        # 1.0 / (1.0 + np.exp(-z))\n",
    "        return expit(z)\n",
    "    \n",
    "    @staticmethod\n",
    "    def _add_bias_unit(X, how='column'):\n",
    "        \"\"\"Add bias unit (column or row of 1s) to array at index 0\"\"\"\n",
    "        if how == 'column':\n",
    "            ones = np.ones((X.shape[0], 1))\n",
    "            X_new = np.hstack((ones, X))\n",
    "        elif how == 'row':\n",
    "            ones = np.ones((1, X.shape[1]))\n",
    "            X_new = np.vstack((ones, X))\n",
    "        return X_new\n",
    "    \n",
    "    @staticmethod\n",
    "    def _L2_reg(lambda_, W1, W2):\n",
    "        \"\"\"Compute L2-regularization cost\"\"\"\n",
    "        # only compute for non-bias terms\n",
    "        return (lambda_) * np.sqrt(np.mean(W1[:, 1:] ** 2) + np.mean(W2[:, 1:] ** 2))\n",
    "    \n",
    "    def _cost(self,A3,Y_enc,W1,W2):\n",
    "        '''Get the objective function value'''\n",
    "        cost = np.mean((Y_enc-A3)**2)\n",
    "        L2_term = self._L2_reg(self.l2_C, W1, W2)\n",
    "        return cost + L2_term\n",
    "\n",
    "# now let's add in the following functions:\n",
    "#    feedforward\n",
    "#    fit and predict\n",
    "class TwoLayerPerceptron(TwoLayerPerceptronBase):\n",
    "    def _feedforward(self, X, W1, W2):\n",
    "        \"\"\"Compute feedforward step\n",
    "        -----------\n",
    "        X : Input layer with original features.\n",
    "        W1: Weight matrix for input layer -> hidden layer.\n",
    "        W2: Weight matrix for hidden layer -> output layer.\n",
    "        ----------\n",
    "        a1-a3 : activations into layer (or output layer)\n",
    "        z1-z2 : layer inputs \n",
    "\n",
    "        \"\"\"\n",
    "        A1 = self._add_bias_unit(X.T, how='row')\n",
    "        Z1 = W1 @ A1\n",
    "        A2 = self._sigmoid(Z1)\n",
    "        A2 = self._add_bias_unit(A2, how='row')\n",
    "        Z2 = W2 @ A2\n",
    "        A3 = self._sigmoid(Z2)\n",
    "        return A1, Z1, A2, Z2, A3\n",
    "    \n",
    "    def _get_gradient(self, A1, A2, A3, Z1, Z2, Y_enc, W1, W2):\n",
    "        \"\"\" Compute gradient step using backpropagation.\n",
    "        \"\"\"\n",
    "    \n",
    "    def predict(self, X):\n",
    "        \"\"\"Predict class labels\"\"\"\n",
    "        _, _, _, _, A3 = self._feedforward(X, self.W1, self.W2)\n",
    "        y_pred = np.argmax(A3, axis=0)\n",
    "        return y_pred\n",
    "    \n",
    "    \n",
    "    def fit(self, X, y, print_progress=False):\n",
    "        \"\"\" Learn weights from training data.\"\"\"\n",
    "        \n",
    "        X_data, y_data = X.copy(), y.copy()\n",
    "        Y_enc = self._encode_labels(y)\n",
    "        \n",
    "        # init weights and setup matrices\n",
    "        self.n_features_ = X_data.shape[1]\n",
    "        self.n_output_ = Y_enc.shape[0]\n",
    "        self.W1, self.W2 = self._initialize_weights()\n",
    "\n",
    "        self.cost_ = []\n",
    "        for i in range(self.epochs):\n",
    "\n",
    "            if print_progress>0 and (i+1)%print_progress==0:\n",
    "                sys.stderr.write('\\rEpoch: %d/%d' % (i+1, self.epochs))\n",
    "                sys.stderr.flush()\n",
    "\n",
    "            # feedforward all instances\n",
    "            A1, Z1, A2, Z2, A3 = self._feedforward(X_data,self.W1,self.W2)\n",
    "            \n",
    "            cost = self._cost(A3,Y_enc,self.W1,self.W2)\n",
    "            self.cost_.append(cost)\n",
    "\n",
    "            # compute gradient via backpropagation\n",
    "            grad1, grad2 = self._get_gradient(A1=A1, A2=A2, A3=A3, Z1=Z1, Z2=Z2, Y_enc=Y_enc,\n",
    "                                              W1=self.W1, W2=self.W2)\n",
    "\n",
    "            self.W1 -= self.eta * grad1\n",
    "            self.W2 -= self.eta * grad2\n",
    "            \n",
    "        return self\n",
    "\n",
    "class TwoLayerPerceptronVectorized(TwoLayerPerceptron):\n",
    "    # just need a different gradient calculation\n",
    "    def _get_gradient(self, A1, A2, A3, Z1, Z2, Y_enc, W1, W2):\n",
    "        \"\"\" Compute gradient step using backpropagation.\n",
    "        \"\"\"\n",
    "        # vectorized backpropagation\n",
    "        V2 = -2*(Y_enc-A3)*A3*(1-A3)\n",
    "        V1 = A2*(1-A2)*(W2.T @ V2)\n",
    "        \n",
    "        grad2 = V2 @ A2.T\n",
    "        grad1 = V1[1:,:] @ A1.T\n",
    "        \n",
    "        \n",
    "        # regularize weights that are not bias terms\n",
    "        grad1[:, 1:] += W1[:, 1:] * self.l2_C\n",
    "        grad2[:, 1:] += W2[:, 1:] * self.l2_C\n",
    "\n",
    "        return grad1, grad2"
   ]
  },
  {
   "cell_type": "code",
   "execution_count": 621,
   "metadata": {},
   "outputs": [],
   "source": [
    "# Function to convert data into format to test accuracy with\n",
    "def convert_data(y_pred):\n",
    "  returnMe = pd.DataFrame()\n",
    "  \n",
    "  returnMe['first_quartile'] = (y_pred == 0)\n",
    "  returnMe['second_quartile'] = (y_pred == 1)\n",
    "  returnMe['third_quartile'] = (y_pred == 2)\n",
    "  returnMe['fourth_quartile'] = (y_pred == 3)\n",
    "\n",
    "  return returnMe"
   ]
  },
  {
   "cell_type": "code",
   "execution_count": 622,
   "metadata": {},
   "outputs": [
    {
     "name": "stderr",
     "output_type": "stream",
     "text": [
      "Epoch: 500/500"
     ]
    },
    {
     "data": {
      "image/png": "[encoded data removed]",
      "text/plain": [
       "<Figure size 432x288 with 1 Axes>"
      ]
     },
     "metadata": {
      "needs_background": "light"
     },
     "output_type": "display_data"
    },
    {
     "name": "stdout",
     "output_type": "stream",
     "text": [
      "Accuracy: 0.3695652173913043\n"
     ]
    }
   ],
   "source": [
    "# train the model\n",
    "model = TwoLayerPerceptronVectorized(n_hidden=30, C=0.0, epochs=500, eta=0.001, random_state=42)\n",
    "model.fit(X_train, y_train, print_progress=True)\n",
    "# plot the loss over time to ensure convergence\n",
    "plt.plot(range(1, len(model.cost_)+1), model.cost_)\n",
    "plt.xlabel(\"Epochs\")\n",
    "plt.ylabel(\"Cost\")\n",
    "plt.show()\n",
    "\n",
    "# evaluate the model on the test set\n",
    "y_pred = model.predict(X_test)\n",
    "\n",
    "# convert y_pred into a one-hot encoded dataframe\n",
    "y_pred = convert_data(y_pred)\n",
    "\n",
    "# Get accuracy\n",
    "accuracy = accuracy_score(y_test, y_pred)\n",
    "print(\"Accuracy:\", accuracy)"
   ]
  },
  {
   "cell_type": "code",
   "execution_count": 623,
   "metadata": {},
   "outputs": [
    {
     "name": "stdout",
     "output_type": "stream",
     "text": [
      "      first_quartile  fourth_quartile  second_quartile  third_quartile\n",
      "2191               0                0                1               0\n",
      "791                0                1                0               0\n",
      "2385               0                1                0               0\n",
      "161                0                0                1               0\n",
      "255                0                0                0               1\n",
      "...              ...              ...              ...             ...\n",
      "2689               0                0                0               1\n",
      "2405               0                0                0               1\n",
      "1081               0                0                1               0\n",
      "2370               0                1                0               0\n",
      "2264               0                1                0               0\n",
      "\n",
      "[644 rows x 4 columns]\n"
     ]
    }
   ],
   "source": [
    "print(y_test)"
   ]
  },
  {
   "attachments": {},
   "cell_type": "markdown",
   "metadata": {},
   "source": [
    "[.5 points] Now (1) normalize the continuous numeric feature data. Use the example two-layer perceptron network from the class example and quantify performance using accuracy. Be sure that training converges by graphing the loss function versus the number of epochs.  "
   ]
  },
  {
   "cell_type": "code",
   "execution_count": 624,
   "metadata": {},
   "outputs": [
    {
     "name": "stderr",
     "output_type": "stream",
     "text": [
      "Epoch: 500/500"
     ]
    },
    {
     "data": {
      "image/png": "[encoded data removed]",
      "text/plain": [
       "<Figure size 432x288 with 1 Axes>"
      ]
     },
     "metadata": {
      "needs_background": "light"
     },
     "output_type": "display_data"
    },
    {
     "name": "stdout",
     "output_type": "stream",
     "text": [
      "Accuracy: 0.7018633540372671\n"
     ]
    }
   ],
   "source": [
    "import numpy as np\n",
    "import pandas as pd\n",
    "import matplotlib.pyplot as plt\n",
    "from sklearn.preprocessing import StandardScaler\n",
    "from sklearn.model_selection import train_test_split\n",
    "\n",
    "# define the TwoLayerPerceptron and TwoLayerPerceptronBase classes here\n",
    "\n",
    "class NormalizedTwoLayerPerceptron(TwoLayerPerceptronVectorized):\n",
    "    def fit(self, X, y, print_progress=False):\n",
    "        scaler = StandardScaler()\n",
    "        X_norm = scaler.fit_transform(X)\n",
    "        super().fit(X_norm, y, print_progress=print_progress)\n",
    "        self.scaler_ = scaler\n",
    "        \n",
    "    def predict(self, X):\n",
    "        X_norm = self.scaler_.transform(X)\n",
    "        return super().predict(X_norm)\n",
    "\n",
    "# train the model\n",
    "model = NormalizedTwoLayerPerceptron(n_hidden=30, C=0.0, epochs=500, eta=0.001, random_state=42)\n",
    "model.fit(X_train, y_train, print_progress=True)\n",
    "\n",
    "# plot the loss over time to ensure convergence\n",
    "plt.plot(range(1, len(model.cost_)+1), model.cost_)\n",
    "plt.xlabel(\"Epochs\")\n",
    "plt.ylabel(\"Cost\")\n",
    "plt.show()\n",
    "\n",
    "# evaluate the model on the test set\n",
    "y_pred = model.predict(X_test)\n",
    "\n",
    "# convert y_pred into a one-hot encoded dataframe\n",
    "y_pred = convert_data(y_pred)\n",
    "\n",
    "accuracy = accuracy_score(y_test, y_pred)\n",
    "print(\"Accuracy:\", accuracy)\n"
   ]
  },
  {
   "attachments": {},
   "cell_type": "markdown",
   "metadata": {},
   "source": [
    "[.5 points] Now(1) normalize the continuous numeric feature data AND (2) one hot encode the categorical data. Use the example two-layer perceptron network from the class example and quantify performance using accuracy. Be sure that training converges by graphing the loss function versus the number of epochs."
   ]
  },
  {
   "cell_type": "code",
   "execution_count": 625,
   "metadata": {},
   "outputs": [
    {
     "data": {
      "text/html": [
       "<div>\n",
       "<style scoped>\n",
       "    .dataframe tbody tr th:only-of-type {\n",
       "        vertical-align: middle;\n",
       "    }\n",
       "\n",
       "    .dataframe tbody tr th {\n",
       "        vertical-align: top;\n",
       "    }\n",
       "\n",
       "    .dataframe thead th {\n",
       "        text-align: right;\n",
       "    }\n",
       "</style>\n",
       "<table border=\"1\" class=\"dataframe\">\n",
       "  <thead>\n",
       "    <tr style=\"text-align: right;\">\n",
       "      <th></th>\n",
       "      <th>CensusId</th>\n",
       "      <th>County</th>\n",
       "      <th>TotalPop</th>\n",
       "      <th>Men</th>\n",
       "      <th>Women</th>\n",
       "      <th>Hispanic</th>\n",
       "      <th>White</th>\n",
       "      <th>Black</th>\n",
       "      <th>Native</th>\n",
       "      <th>Asian</th>\n",
       "      <th>...</th>\n",
       "      <th>OtherTransp</th>\n",
       "      <th>WorkAtHome</th>\n",
       "      <th>MeanCommute</th>\n",
       "      <th>Employed</th>\n",
       "      <th>PrivateWork</th>\n",
       "      <th>PublicWork</th>\n",
       "      <th>SelfEmployed</th>\n",
       "      <th>FamilyWork</th>\n",
       "      <th>Unemployment</th>\n",
       "      <th>poverty_quartile</th>\n",
       "    </tr>\n",
       "  </thead>\n",
       "  <tbody>\n",
       "    <tr>\n",
       "      <th>0</th>\n",
       "      <td>1001</td>\n",
       "      <td>0</td>\n",
       "      <td>55221</td>\n",
       "      <td>26745</td>\n",
       "      <td>28476</td>\n",
       "      <td>2.6</td>\n",
       "      <td>75.8</td>\n",
       "      <td>18.5</td>\n",
       "      <td>0.4</td>\n",
       "      <td>1.0</td>\n",
       "      <td>...</td>\n",
       "      <td>1.3</td>\n",
       "      <td>1.8</td>\n",
       "      <td>26.5</td>\n",
       "      <td>23986</td>\n",
       "      <td>73.6</td>\n",
       "      <td>20.9</td>\n",
       "      <td>5.5</td>\n",
       "      <td>0.0</td>\n",
       "      <td>7.6</td>\n",
       "      <td>third_quartile</td>\n",
       "    </tr>\n",
       "    <tr>\n",
       "      <th>1</th>\n",
       "      <td>1003</td>\n",
       "      <td>1</td>\n",
       "      <td>195121</td>\n",
       "      <td>95314</td>\n",
       "      <td>99807</td>\n",
       "      <td>4.5</td>\n",
       "      <td>83.1</td>\n",
       "      <td>9.5</td>\n",
       "      <td>0.6</td>\n",
       "      <td>0.7</td>\n",
       "      <td>...</td>\n",
       "      <td>1.4</td>\n",
       "      <td>3.9</td>\n",
       "      <td>26.4</td>\n",
       "      <td>85953</td>\n",
       "      <td>81.5</td>\n",
       "      <td>12.3</td>\n",
       "      <td>5.8</td>\n",
       "      <td>0.4</td>\n",
       "      <td>7.5</td>\n",
       "      <td>third_quartile</td>\n",
       "    </tr>\n",
       "    <tr>\n",
       "      <th>2</th>\n",
       "      <td>1005</td>\n",
       "      <td>2</td>\n",
       "      <td>26932</td>\n",
       "      <td>14497</td>\n",
       "      <td>12435</td>\n",
       "      <td>4.6</td>\n",
       "      <td>46.2</td>\n",
       "      <td>46.7</td>\n",
       "      <td>0.2</td>\n",
       "      <td>0.4</td>\n",
       "      <td>...</td>\n",
       "      <td>1.5</td>\n",
       "      <td>1.6</td>\n",
       "      <td>24.1</td>\n",
       "      <td>8597</td>\n",
       "      <td>71.8</td>\n",
       "      <td>20.8</td>\n",
       "      <td>7.3</td>\n",
       "      <td>0.1</td>\n",
       "      <td>17.6</td>\n",
       "      <td>first_quartile</td>\n",
       "    </tr>\n",
       "    <tr>\n",
       "      <th>3</th>\n",
       "      <td>1007</td>\n",
       "      <td>3</td>\n",
       "      <td>22604</td>\n",
       "      <td>12073</td>\n",
       "      <td>10531</td>\n",
       "      <td>2.2</td>\n",
       "      <td>74.5</td>\n",
       "      <td>21.4</td>\n",
       "      <td>0.4</td>\n",
       "      <td>0.1</td>\n",
       "      <td>...</td>\n",
       "      <td>1.5</td>\n",
       "      <td>0.7</td>\n",
       "      <td>28.8</td>\n",
       "      <td>8294</td>\n",
       "      <td>76.8</td>\n",
       "      <td>16.1</td>\n",
       "      <td>6.7</td>\n",
       "      <td>0.4</td>\n",
       "      <td>8.3</td>\n",
       "      <td>second_quartile</td>\n",
       "    </tr>\n",
       "    <tr>\n",
       "      <th>4</th>\n",
       "      <td>1009</td>\n",
       "      <td>4</td>\n",
       "      <td>57710</td>\n",
       "      <td>28512</td>\n",
       "      <td>29198</td>\n",
       "      <td>8.6</td>\n",
       "      <td>87.9</td>\n",
       "      <td>1.5</td>\n",
       "      <td>0.3</td>\n",
       "      <td>0.1</td>\n",
       "      <td>...</td>\n",
       "      <td>0.4</td>\n",
       "      <td>2.3</td>\n",
       "      <td>34.9</td>\n",
       "      <td>22189</td>\n",
       "      <td>82.0</td>\n",
       "      <td>13.5</td>\n",
       "      <td>4.2</td>\n",
       "      <td>0.4</td>\n",
       "      <td>7.7</td>\n",
       "      <td>second_quartile</td>\n",
       "    </tr>\n",
       "  </tbody>\n",
       "</table>\n",
       "<p>5 rows × 37 columns</p>\n",
       "</div>"
      ],
      "text/plain": [
       "   CensusId  County  TotalPop    Men  Women  Hispanic  White  Black  Native  \\\n",
       "0      1001       0     55221  26745  28476       2.6   75.8   18.5     0.4   \n",
       "1      1003       1    195121  95314  99807       4.5   83.1    9.5     0.6   \n",
       "2      1005       2     26932  14497  12435       4.6   46.2   46.7     0.2   \n",
       "3      1007       3     22604  12073  10531       2.2   74.5   21.4     0.4   \n",
       "4      1009       4     57710  28512  29198       8.6   87.9    1.5     0.3   \n",
       "\n",
       "   Asian  ...  OtherTransp  WorkAtHome  MeanCommute  Employed  PrivateWork  \\\n",
       "0    1.0  ...          1.3         1.8         26.5     23986         73.6   \n",
       "1    0.7  ...          1.4         3.9         26.4     85953         81.5   \n",
       "2    0.4  ...          1.5         1.6         24.1      8597         71.8   \n",
       "3    0.1  ...          1.5         0.7         28.8      8294         76.8   \n",
       "4    0.1  ...          0.4         2.3         34.9     22189         82.0   \n",
       "\n",
       "   PublicWork  SelfEmployed  FamilyWork  Unemployment  poverty_quartile  \n",
       "0        20.9           5.5         0.0           7.6    third_quartile  \n",
       "1        12.3           5.8         0.4           7.5    third_quartile  \n",
       "2        20.8           7.3         0.1          17.6    first_quartile  \n",
       "3        16.1           6.7         0.4           8.3   second_quartile  \n",
       "4        13.5           4.2         0.4           7.7   second_quartile  \n",
       "\n",
       "[5 rows x 37 columns]"
      ]
     },
     "execution_count": 625,
     "metadata": {},
     "output_type": "execute_result"
    }
   ],
   "source": [
    "df.head()"
   ]
  },
  {
   "cell_type": "code",
   "execution_count": 626,
   "metadata": {},
   "outputs": [],
   "source": [
    "y = df['poverty_quartile']\n",
    "y = pd.get_dummies(y)\n",
    "\n",
    "X_categorical = df[['County']]\n",
    "X = df.drop(['poverty_quartile', 'ChildPoverty', 'County'], axis=1)\n",
    "\n",
    "# Normalize the numeric feature data\n",
    "X_norm = StandardScaler().fit_transform(X)\n",
    "\n",
    "# One-hot encode the categorical features\n",
    "X_categorical = pd.get_dummies(X_categorical)\n",
    "\n",
    "# Concatenate the numeric and categorical features\n",
    "X = np.concatenate((X_norm, X_categorical), axis=1)\n",
    "\n",
    "# Split the data into training and test sets\n",
    "X_train, X_test, y_train, y_test = train_test_split(X_norm, y, test_size=0.2, random_state=42)"
   ]
  },
  {
   "cell_type": "code",
   "execution_count": 627,
   "metadata": {},
   "outputs": [
    {
     "name": "stderr",
     "output_type": "stream",
     "text": [
      "Epoch: 500/500"
     ]
    },
    {
     "data": {
      "image/png": "[encoded data removed]",
      "text/plain": [
       "<Figure size 432x288 with 1 Axes>"
      ]
     },
     "metadata": {
      "needs_background": "light"
     },
     "output_type": "display_data"
    },
    {
     "name": "stdout",
     "output_type": "stream",
     "text": [
      "Accuracy: 0.7375776397515528\n"
     ]
    }
   ],
   "source": [
    "# train the model\n",
    "model = NormalizedTwoLayerPerceptron(n_hidden=30, C=0.0, epochs=500, eta=0.001, random_state=42)\n",
    "model.fit(X_train, y_train, print_progress=True)\n",
    "\n",
    "# plot the loss over time to ensure convergence\n",
    "plt.plot(range(1, len(model.cost_)+1), model.cost_)\n",
    "plt.xlabel(\"Epochs\")\n",
    "plt.ylabel(\"Cost\")\n",
    "plt.show()\n",
    "\n",
    "# evaluate the model on the test set\n",
    "y_pred = model.predict(X_test)\n",
    "\n",
    "# convert y_pred into a one-hot encoded dataframe\n",
    "y_pred = convert_data(y_pred)\n",
    "\n",
    "accuracy = accuracy_score(y_test, y_pred)\n",
    "print(\"Accuracy:\", accuracy)"
   ]
  },
  {
   "attachments": {},
   "cell_type": "markdown",
   "metadata": {},
   "source": [
    "[1 points] Compare the performance of the three models you just trained. Are there any meaningful differences in performance? Explain, in your own words, why these models have (or do not have) different performances.  \n",
    "\n",
    "Use one-hot encoding and normalization on the dataset for the remainder of this lab assignment."
   ]
  },
  {
   "attachments": {},
   "cell_type": "markdown",
   "metadata": {},
   "source": [
    "# Comparing performance\n",
    "\n",
    "### First Model\n",
    "* The first model was able to get a decent score of about 38% accuracy. This is a good start, but we can do better. We were able to successfully beat a random choice, which would get about 25% accuracy, but we want to do better than that. The first model does not have any normalization or one-hot encoding on the input data, so there are some columns that are taking on a much larger weight than others. This is why we see such a large difference in accuracy between the first and second model.\n",
    "\n",
    "### Second Model\n",
    "* The second model was able to get a score of about 70% accuracy. This is a huge improvement over the first model. All we did was add a normalization! This is a great example of how important normalization is. The second model is still not as good as the third model, since the second model does not one-hot encode the colunn of county. That is only one column, so the difference in accuracy is not as large as the difference between the first and second model.\n",
    "\n",
    "### Third Model\n",
    "* The third model was able to get a score of about 73% accuracy. The slight improvement is because of the one hot encoding of the county column. This is a great example of how important one-hot encoding is. If there were many more columns that were not one-hot encoded, the difference in accuracy would be much larger."
   ]
  },
  {
   "attachments": {},
   "cell_type": "markdown",
   "metadata": {},
   "source": [
    "# Modeling (5 points total)\n",
    "[1 points] Add support for a third layer in the multi-layer perceptron. Add support for saving (and plotting after training is completed) the average magnitude of the gradient for each layer, for each epoch (like we did in the flipped module for back propagation). For magnitude calculation, you are free to use either the average absolute values or the L1/L2 norm.\n",
    "Quantify the performance of the model and graph the magnitudes for each layer versus the number of epochs."
   ]
  },
  {
   "cell_type": "code",
   "execution_count": 628,
   "metadata": {},
   "outputs": [],
   "source": [
    "class ThreeLayerPerceptronBase(TwoLayerPerceptronBase):\n",
    "    def __init__(self, n_hidden_1=30, n_hidden_2=30,\n",
    "                 C=0.0, epochs=500, eta=0.001, random_state=None):\n",
    "        super().__init__(n_hidden=n_hidden_1, C=C, epochs=epochs, eta=eta, random_state=random_state)\n",
    "        self.n_hidden_1 = n_hidden_1\n",
    "        self.n_hidden_2 = n_hidden_2\n",
    "\n",
    "    def _initialize_weights(self):\n",
    "        \"\"\"Initialize weights with small random numbers.\"\"\"\n",
    "        W1_num_elems = (self.n_features_ + 1) * self.n_hidden_1\n",
    "        W1 = np.random.uniform(-1.0, 1.0, size=W1_num_elems)\n",
    "        W1 = W1.reshape(self.n_hidden_1, self.n_features_ + 1)  # reshape to be W\n",
    "\n",
    "        W2_num_elems = (self.n_hidden_1 + 1) * self.n_hidden_2\n",
    "        W2 = np.random.uniform(-1.0, 1.0, size=W2_num_elems)\n",
    "        W2 = W2.reshape(self.n_hidden_2, self.n_hidden_1 + 1)\n",
    "\n",
    "        W3_num_elems = (self.n_hidden_2 + 1) * self.n_output_\n",
    "        W3 = np.random.uniform(-1.0, 1.0, size=W3_num_elems)\n",
    "        W3 = W3.reshape(self.n_output_, self.n_hidden_2 + 1)\n",
    "\n",
    "        return W1, W2, W3\n",
    "\n",
    "    @staticmethod\n",
    "    def _L2_reg(lambda_, W1, W2, W3):\n",
    "        \"\"\"Compute L2-regularization cost\"\"\"\n",
    "        # only compute for non-bias terms\n",
    "        return (lambda_) * np.sqrt(np.mean(W1[:, 1:] ** 2) + np.mean(W2[:, 1:] ** 2) + np.mean(W3[:, 1:] ** 2))\n",
    "\n",
    "    def _cost(self, A4, Y_enc, W1, W2, W3):\n",
    "        '''Get the objective function value'''\n",
    "        cost = np.mean((Y_enc - A4) ** 2)\n",
    "        L2_term = self._L2_reg(self.l2_C, W1, W2, W3)\n",
    "        return cost + L2_term\n"
   ]
  },
  {
   "cell_type": "code",
   "execution_count": 629,
   "metadata": {},
   "outputs": [],
   "source": [
    "class ThreeLayerPerceptron(ThreeLayerPerceptronBase):\n",
    "    def _feedforward(self, X, W1, W2, W3):\n",
    "        \"\"\"Compute feedforward step\"\"\"\n",
    "        A1 = self._add_bias_unit(X.T, how='row')\n",
    "        Z1 = W1 @ A1\n",
    "        A2 = self._sigmoid(Z1)\n",
    "        A2 = self._add_bias_unit(A2, how='row')\n",
    "        Z2 = W2 @ A2\n",
    "        A3 = self._sigmoid(Z2)\n",
    "        A3 = self._add_bias_unit(A3, how='row')\n",
    "        Z3 = W3 @ A3\n",
    "        A4 = self._sigmoid(Z3)\n",
    "        return A1, Z1, A2, Z2, A3, Z3, A4\n",
    "\n",
    "    def _get_gradient(self, A1, A2, A3, A4, Z1, Z2, Z3, Y_enc, W1, W2, W3):\n",
    "        \"\"\" Compute gradient step using backpropagation. \"\"\"\n",
    "        V3 = -2 * (Y_enc - A4) * A4 * (1 - A4)\n",
    "        V2 = A3 * (1 - A3) * (W3.T @ V3)\n",
    "        V1 = A2 * (1 - A2) * (W2.T @ V2[1:, :])\n",
    "\n",
    "        grad3 = V3 @ A3.T\n",
    "        grad2 = V2[1:, :] @ A2.T\n",
    "        grad1 = V1[1:, :] @ A1.T\n",
    "\n",
    "        # regularize weights that are not bias terms\n",
    "        grad1[:, 1:] += W1[:, 1:] * self.l2_C\n",
    "        grad2[:, 1:] += W2[:, 1:] * self.l2_C\n",
    "        grad3[:, 1:] += W3[:, 1:] * self.l2_C\n",
    "\n",
    "        return grad1, grad2, grad3\n",
    "\n",
    "    def predict(self, X):\n",
    "        \"\"\"Predict class labels\"\"\"\n",
    "        _, _, _, _, _, _, A4 = self._feedforward(X, self.W1, self.W2, self.W3)\n",
    "        y_pred = np.argmax(A4, axis=0)\n",
    "        return y_pred\n",
    "\n",
    "    def fit(self, X, y, print_progress=False):\n",
    "        \"\"\" Learn weights from training data.\"\"\"\n",
    "        X_data, y_data = X.copy(), y.copy()\n",
    "        Y_enc = self._encode_labels(y)\n",
    "\n",
    "        # init weights and setup matrices\n",
    "        self.n_features_ = X_data.shape[1]\n",
    "        self.n_output_ = Y_enc.shape[0]\n",
    "        self.W1, self.W2, self.W3 = self._initialize_weights()\n",
    "\n",
    "        self.cost_ = []\n",
    "        self.grad_mag_ = {'W1': [], 'W2': [], 'W3': []}  # Added line to store gradient magnitudes\n",
    "        for i in range(self.epochs):\n",
    "\n",
    "            if print_progress > 0 and (i + 1) % print_progress == 0:\n",
    "                sys.stderr.write('\\rEpoch: %d/%d' % (i + 1, self.epochs))\n",
    "                sys.stderr.flush()\n",
    "\n",
    "            # feedforward all instances\n",
    "            A1, Z1, A2, Z2, A3, Z3, A4 = self._feedforward(X_data, self.W1, self.W2, self.W3)\n",
    "\n",
    "            cost = self._cost(A4, Y_enc, self.W1, self.W2, self.W3)\n",
    "            self.cost_.append(cost)\n",
    "\n",
    "            # compute gradient via backpropagation\n",
    "            grad1, grad2, grad3 = self._get_gradient(A1=A1, A2=A2, A3=A3, A4=A4, Z1=Z1, Z2=Z2, Z3=Z3, Y_enc=Y_enc,\n",
    "                                                     W1=self.W1, W2=self.W2, W3=self.W3)\n",
    "\n",
    "            # Save average gradient magnitudes\n",
    "            self.grad_mag_['W1'].append(np.mean(np.abs(grad1)))\n",
    "            self.grad_mag_['W2'].append(np.mean(np.abs(grad2)))\n",
    "            self.grad_mag_['W3'].append(np.mean(np.abs(grad3)))\n",
    "\n",
    "            self.W1 -= self.eta * grad1\n",
    "            self.W2 -= self.eta * grad2\n",
    "            self.W3 -= self.eta * grad3\n",
    "\n",
    "        return self\n",
    "\n",
    "    def plot_gradient_magnitudes(self):\n",
    "        \"\"\"Plot the average gradient magnitudes for each layer.\"\"\"\n",
    "        plt.plot(self.grad_mag_['W1'], label='W1', linestyle='-', marker='o')\n",
    "        plt.plot(self.grad_mag_['W2'], label='W2', linestyle='-', marker='s')\n",
    "        plt.plot(self.grad_mag_['W3'], label='W3', linestyle='-', marker='d')\n",
    "        \n",
    "        plt.ylabel('Average Gradient Magnitude')\n",
    "        plt.xlabel('Epochs')\n",
    "        plt.legend(loc='upper right')\n",
    "        plt.grid()\n",
    "        plt.show()"
   ]
  },
  {
   "attachments": {},
   "cell_type": "markdown",
   "metadata": {},
   "source": [
    "### Test the three-layer model"
   ]
  },
  {
   "cell_type": "code",
   "execution_count": 630,
   "metadata": {},
   "outputs": [
    {
     "name": "stderr",
     "output_type": "stream",
     "text": [
      "Epoch: 1000/1000"
     ]
    },
    {
     "data": {
      "image/png": "[encoded data removed]",
      "text/plain": [
       "<Figure size 432x288 with 1 Axes>"
      ]
     },
     "metadata": {
      "needs_background": "light"
     },
     "output_type": "display_data"
    },
    {
     "name": "stdout",
     "output_type": "stream",
     "text": [
      "Accuracy: 75.31%\n"
     ]
    }
   ],
   "source": [
    "# run the three layer model\n",
    "nn = ThreeLayerPerceptron(n_hidden_1=50, n_hidden_2=50, C=0.0, epochs=1000, eta=0.001, random_state=1)\n",
    "nn.fit(X_train, y_train, print_progress=100)\n",
    "\n",
    "nn.plot_gradient_magnitudes()\n",
    "\n",
    "# Check the accuracy\n",
    "y_pred = nn.predict(X_test)\n",
    "y_pred = convert_data(y_pred)\n",
    "print('Accuracy: %.2f%%' % (100 * accuracy_score(y_test, y_pred)))"
   ]
  },
  {
   "attachments": {},
   "cell_type": "markdown",
   "metadata": {},
   "source": [
    "[1 points] Repeat the previous step, adding support for a fourth layer."
   ]
  },
  {
   "cell_type": "code",
   "execution_count": 631,
   "metadata": {},
   "outputs": [],
   "source": [
    "class FourLayerPerceptron(ThreeLayerPerceptron):\n",
    "    def __init__(self, n_hidden1=30, n_hidden2=30, n_hidden3=30, epochs=500, eta=0.001, random_state=None, l2_C=0.0):\n",
    "        np.random.seed(random_state)\n",
    "        self.n_hidden1 = n_hidden1\n",
    "        self.n_hidden2 = n_hidden2\n",
    "        self.n_hidden3 = n_hidden3\n",
    "        self.l2_C = l2_C\n",
    "        self.epochs = epochs\n",
    "        self.eta = eta\n",
    "        self.random_state = random_state\n",
    "\n",
    "    def _feedforward(self, X, W1, W2, W3, W4):\n",
    "        \"\"\"Compute feedforward step\"\"\"\n",
    "        A1 = self._add_bias_unit(X.T, how='row')\n",
    "        Z1 = W1 @ A1\n",
    "        A2 = self._sigmoid(Z1)\n",
    "        A2 = self._add_bias_unit(A2, how='row')\n",
    "        Z2 = W2 @ A2\n",
    "        A3 = self._sigmoid(Z2)\n",
    "        A3 = self._add_bias_unit(A3, how='row')\n",
    "        Z3 = W3 @ A3\n",
    "        A4 = self._sigmoid(Z3)\n",
    "        A4 = self._add_bias_unit(A4, how='row')\n",
    "        Z4 = W4 @ A4\n",
    "        A5 = self._sigmoid(Z4)\n",
    "        return A1, Z1, A2, Z2, A3, Z3, A4, Z4, A5\n",
    "\n",
    "    def _get_gradient(self, A1, A2, A3, A4, A5, Z1, Z2, Z3, Z4, Y_enc, W1, W2, W3, W4):\n",
    "        \"\"\" Compute gradient step using backpropagation. \"\"\"\n",
    "        V4 = -2 * (Y_enc - A5) * A5 * (1 - A5)\n",
    "        V3 = A4 * (1 - A4) * (W4.T @ V4)\n",
    "        V2 = A3 * (1 - A3) * (W3.T @ V3[1:, :])\n",
    "        V1 = A2 * (1 - A2) * (W2.T @ V2[1:, :])\n",
    "\n",
    "        grad4 = V4 @ A4.T\n",
    "        grad3 = V3[1:, :] @ A3.T\n",
    "        grad2 = V2[1:, :] @ A2.T\n",
    "        grad1 = V1[1:, :] @ A1.T\n",
    "\n",
    "        # regularize weights that are not bias terms\n",
    "        grad1[:, 1:] += W1[:, 1:] * self.l2_C\n",
    "        grad2[:, 1:] += W2[:, 1:] * self.l2_C\n",
    "        grad3[:, 1:] += W3[:, 1:] * self.l2_C\n",
    "        grad4[:, 1:] += W4[:, 1:] * self.l2_C\n",
    "\n",
    "        return grad1, grad2, grad3, grad4\n",
    "\n",
    "    def _initialize_weights(self):\n",
    "        \"\"\"Initialize weights with small random numbers.\"\"\"\n",
    "        W1_num_elems = (self.n_hidden1 * (self.n_features_ + 1))\n",
    "        W1 = np.random.uniform(-1.0, 1.0, size=W1_num_elems)\n",
    "        W1 = W1.reshape(self.n_hidden1, self.n_features_ + 1)  # reshape to be W\n",
    "\n",
    "        W2_num_elems = (self.n_hidden2 * (self.n_hidden1 + 1))\n",
    "        W2 = np.random.uniform(-1.0, 1.0, size=W2_num_elems)\n",
    "        W2 = W2.reshape(self.n_hidden2, self.n_hidden1 + 1)\n",
    "\n",
    "        W3_num_elems = (self.n_hidden3 * (self.n_hidden2 + 1))\n",
    "        W3 = np.random.uniform(-1.0, 1.0, size=W3_num_elems)\n",
    "        W3 = W3.reshape(self.n_hidden3, self.n_hidden2 + 1)\n",
    "\n",
    "        W4_num_elems = (self.n_output_ * (self.n_hidden3 + 1))\n",
    "        W4 = np.random.uniform(-1.0, 1.0, size=W4_num_elems)\n",
    "        W4 = W4.reshape(self.n_output_, self.n_hidden3 + 1)\n",
    "\n",
    "        return W1, W2, W3, W4\n",
    "\n",
    "    def predict(self, X):\n",
    "        \"\"\"Predict class labels\"\"\"\n",
    "        _, _, _, _, _, _, _, _, A5 = self._feedforward(X, self.W1, self.W2, self.W3, self.W4)\n",
    "        y_pred = np.argmax(A5, axis=0)\n",
    "        return y_pred\n",
    "\n",
    "    def fit(self, X, y, print_progress=False):\n",
    "        \"\"\" Learn weights from training data.\"\"\"\n",
    "        X_data, y_data = X.copy(), y.copy()\n",
    "        Y_enc = self._encode_labels(y)\n",
    "\n",
    "        # init weights and setup matrices\n",
    "        self.n_features_ = X_data.shape[1]\n",
    "        self.n_output_ = Y_enc.shape[0]\n",
    "        self.W1, self.W2, self.W3, self.W4 = self._initialize_weights()\n",
    "\n",
    "        self.cost_ = []\n",
    "        self.grad_mag_ = {'W1': [], 'W2': [], 'W3': [], 'W4': []}  # Added line to store gradient magnitudes\n",
    "        for i in range(self.epochs):\n",
    "\n",
    "            if print_progress > 0 and (i + 1) % print_progress == 0:\n",
    "                sys.stderr.write('\\rEpoch: %d/%d' % (i + 1, self.epochs))\n",
    "                sys.stderr.flush()\n",
    "\n",
    "            # feedforward all instances\n",
    "            A1, Z1, A2, Z2, A3, Z3, A4, Z4, A5 = self._feedforward(X_data, self.W1, self.W2, self.W3, self.W4)\n",
    "\n",
    "            cost = self._cost(A5, Y_enc, self.W1, self.W2, self.W3, self.W4)\n",
    "            self.cost_.append(cost)\n",
    "\n",
    "            # compute gradient via backpropagation\n",
    "            grad1, grad2, grad3, grad4 = self._get_gradient(A1=A1, A2=A2, A3=A3, A4=A4, A5=A5, Z1=Z1, Z2=Z2, Z3=Z3, Z4=Z4, Y_enc=Y_enc,\n",
    "                                                            W1=self.W1, W2=self.W2, W3=self.W3, W4=self.W4)\n",
    "\n",
    "            # Save average gradient magnitudes\n",
    "            self.grad_mag_['W1'].append(np.mean(np.abs(grad1)))\n",
    "            self.grad_mag_['W2'].append(np.mean(np.abs(grad2)))\n",
    "            self.grad_mag_['W3'].append(np.mean(np.abs(grad3)))\n",
    "            self.grad_mag_['W4'].append(np.mean(np.abs(grad4)))\n",
    "\n",
    "            self.W1 -= self.eta * grad1\n",
    "            self.W2 -= self.eta * grad2\n",
    "            self.W3 -= self.eta * grad3\n",
    "            self.W4 -= self.eta * grad4\n",
    "\n",
    "        return self\n",
    "\n",
    "    def _cost(self, A5, Y_enc, W1, W2, W3, W4):\n",
    "        \"\"\"Compute the cost function.\"\"\"\n",
    "        cost = np.mean((Y_enc - A5)**2)\n",
    "        L2_term = (self.l2_C * (np.sum(W1[:, 1:] ** 2) +\n",
    "                                np.sum(W2[:, 1:] ** 2) +\n",
    "                                np.sum(W3[:, 1:] ** 2) +\n",
    "                                np.sum(W4[:, 1:] ** 2)))\n",
    "        return cost + L2_term\n",
    "\n",
    "    def plot_gradient_magnitudes(self):\n",
    "        \"\"\"Plot the average gradient magnitudes for each layer.\"\"\"\n",
    "        plt.plot(self.grad_mag_['W1'], label='W1', linestyle='-', marker='o')\n",
    "        plt.plot(self.grad_mag_['W2'], label='W2', linestyle='-', marker='s')\n",
    "        plt.plot(self.grad_mag_['W3'], label='W3', linestyle='-', marker='d')\n",
    "        plt.plot(self.grad_mag_['W4'], label='W4', linestyle='-', marker='x')\n",
    "\n",
    "        plt.ylabel('Average Gradient Magnitude')\n",
    "        plt.xlabel('Epochs')\n",
    "        plt.legend(loc='upper right')\n",
    "        plt.grid()\n",
    "        plt.show()\n"
   ]
  },
  {
   "cell_type": "code",
   "execution_count": 632,
   "metadata": {},
   "outputs": [
    {
     "name": "stderr",
     "output_type": "stream",
     "text": [
      "Epoch: 1000/1000"
     ]
    },
    {
     "data": {
      "image/png": "[encoded data removed]",
      "text/plain": [
       "<Figure size 432x288 with 1 Axes>"
      ]
     },
     "metadata": {
      "needs_background": "light"
     },
     "output_type": "display_data"
    },
    {
     "name": "stdout",
     "output_type": "stream",
     "text": [
      "Accuracy: 73.29%\n"
     ]
    }
   ],
   "source": [
    "# run the four layer model\n",
    "nn = FourLayerPerceptron(n_hidden1=50, n_hidden2=50, n_hidden3=30, l2_C=0.0, epochs=1000, eta=0.001, random_state=1)\n",
    "nn.fit(X_train, y_train, print_progress=100)\n",
    "\n",
    "nn.plot_gradient_magnitudes()\n",
    "\n",
    "# Check the accuracy\n",
    "y_pred = nn.predict(X_test)\n",
    "y_pred = convert_data(y_pred)\n",
    "print('Accuracy: %.2f%%' % (100 * accuracy_score(y_test, y_pred)))"
   ]
  },
  {
   "attachments": {},
   "cell_type": "markdown",
   "metadata": {},
   "source": [
    "\n",
    "[1 points] Repeat the previous step, adding support for a fifth layer."
   ]
  },
  {
   "cell_type": "code",
   "execution_count": 649,
   "metadata": {},
   "outputs": [],
   "source": [
    "class FiveLayerPerceptron(FourLayerPerceptron):\n",
    "    def __init__(self, n_hidden1=30, n_hidden2=30, n_hidden3=30, n_hidden4=30, epochs=500, eta=0.001, random_state=None, l2_C=0.0):\n",
    "        super().__init__(n_hidden1, n_hidden2, n_hidden3, epochs, eta, random_state, l2_C)\n",
    "        self.n_hidden4 = n_hidden4\n",
    "\n",
    "    # update feedforward method to include 5 layers\n",
    "    def _feedforward(self, X, W1, W2, W3, W4, W5):\n",
    "        \"\"\"Compute feedforward step for a five-layer perceptron.\"\"\"\n",
    "        A1 = self._add_bias_unit(X.T, how='row')\n",
    "        Z1 = W1 @ A1\n",
    "        A2 = self._sigmoid(Z1)\n",
    "        A2 = self._add_bias_unit(A2, how='row')\n",
    "        \n",
    "        Z2 = W2 @ A2\n",
    "        A3 = self._sigmoid(Z2)\n",
    "        A3 = self._add_bias_unit(A3, how='row')\n",
    "        \n",
    "        Z3 = W3 @ A3\n",
    "        A4 = self._sigmoid(Z3)\n",
    "        A4 = self._add_bias_unit(A4, how='row')\n",
    "        \n",
    "        Z4 = W4 @ A4\n",
    "        A5 = self._sigmoid(Z4)\n",
    "        A5 = self._add_bias_unit(A5, how='row')\n",
    "        \n",
    "        Z5 = W5 @ A5\n",
    "        A6 = self._sigmoid(Z5)\n",
    "\n",
    "        return A1, Z1, A2, Z2, A3, Z3, A4, Z4, A5, Z5, A6\n",
    "\n",
    "\n",
    "    # Add gradient calculation for the fifth layer\n",
    "    def _get_gradient(self, A1, A2, A3, A4, A5, A6, Z1, Z2, Z3, Z4, Z5, Y_enc, W1, W2, W3, W4, W5):\n",
    "        \"\"\" Compute gradient step using backpropagation. \"\"\"\n",
    "        V5 = -2 * (Y_enc - A6) * A6 * (1 - A6)\n",
    "        V4 = A5 * (1 - A5) * (W5.T @ V5)\n",
    "        V3 = A4 * (1 - A4) * (W4.T @ V4[1:, :])\n",
    "        V2 = A3 * (1 - A3) * (W3.T @ V3[1:, :])\n",
    "        V1 = A2 * (1 - A2) * (W2.T @ V2[1:, :])\n",
    "\n",
    "        grad5 = V5 @ A5.T\n",
    "        grad4 = V4[1:, :] @ A4.T\n",
    "        grad3 = V3[1:, :] @ A3.T\n",
    "        grad2 = V2[1:, :] @ A2.T\n",
    "        grad1 = V1[1:, :] @ A1.T\n",
    "\n",
    "        # regularize weights that are not bias terms\n",
    "        grad1[:, 1:] += W1[:, 1:] * self.l2_C\n",
    "        grad2[:, 1:] += W2[:, 1:] * self.l2_C\n",
    "        grad3[:, 1:] += W3[:, 1:] * self.l2_C\n",
    "        grad4[:, 1:] += W4[:, 1:] * self.l2_C\n",
    "        grad5[:, 1:] += W5[:, 1:] * self.l2_C\n",
    "\n",
    "        return grad1, grad2, grad3, grad4, grad5\n",
    "\n",
    "    # Add the fifth layer to the weight initialization\n",
    "    def _initialize_weights(self):\n",
    "        \"\"\"Initialize weights with small random numbers.\"\"\"\n",
    "        W1, W2, W3, _ = super()._initialize_weights()\n",
    "\n",
    "        W4_num_elems = (self.n_hidden4 * (self.n_hidden3 + 1))\n",
    "        W4 = np.random.uniform(-1.0, 1.0, size=W4_num_elems)\n",
    "        W4 = W4.reshape(self.n_hidden4, self.n_hidden3 + 1)\n",
    "\n",
    "        W5_num_elems = (self.n_output_ * (self.n_hidden4 + 1))\n",
    "        W5 = np.random.uniform(-1.0, 1.0, size=W5_num_elems)\n",
    "        W5 = W5.reshape(self.n_output_, self.n_hidden4 + 1)\n",
    "\n",
    "        return W1, W2, W3, W4, W5\n",
    "\n",
    "    # Add the fifth layer to the prediction function\n",
    "    def predict(self, X):\n",
    "        \"\"\"Predict class labels\"\"\"\n",
    "        _, _, _, _, _, _, _, _, _, _, A6 = self._feedforward(X, self.W1, self.W2, self.W3, self.W4, self.W5)\n",
    "        y_pred = np.argmax(A6, axis=0)\n",
    "        return y_pred\n",
    "\n",
    "    def fit(self, X, y, print_progress=False):\n",
    "        \"\"\" Learn weights from training data.\"\"\"\n",
    "        X_data, y_data = X.copy(), y.copy()\n",
    "        Y_enc = self._encode_labels(y)\n",
    "\n",
    "        # init weights and setup matrices\n",
    "        self.n_features_ = X_data.shape[1]\n",
    "        self.n_output_ = Y_enc.shape[0]\n",
    "        self.W1, self.W2, self.W3, self.W4, self.W5 = self._initialize_weights()\n",
    "\n",
    "        self.cost_ = []\n",
    "        self.grad_mag_ = {'W1': [], 'W2': [], 'W3': [], 'W4': [], 'W5': []}  # Added line to store gradient magnitudes\n",
    "        for i in range(self.epochs):\n",
    "\n",
    "            if print_progress > 0 and (i + 1) % print_progress == 0:\n",
    "                sys.stderr.write('\\rEpoch: %d/%d' % (i + 1, self.epochs))\n",
    "                sys.stderr.flush()\n",
    "\n",
    "            # feedforward all instances\n",
    "            A1, Z1, A2, Z2, A3, Z3, A4, Z4, A5, Z5, A6 = self._feedforward(X_data, self.W1, self.W2, self.W3, self.W4, self.W5)\n",
    "\n",
    "            cost = self._cost(A6, Y_enc, self.W1, self.W2, self.W3, self.W4, self.W5)\n",
    "            self.cost_.append(cost)\n",
    "\n",
    "            # compute gradient via backpropagation\n",
    "            grad1, grad2, grad3, grad4, grad5 = self._get_gradient(A1=A1, A2=A2, A3=A3, A4=A4, A5=A5, A6=A6, Z1=Z1, Z2=Z2, Z3=Z3, Z4=Z4, Z5=Z5, Y_enc=Y_enc,\n",
    "                                                            W1=self.W1, W2=self.W2, W3=self.W3, W4=self.W4, W5=self.W5)\n",
    "\n",
    "            # Save average gradient magnitudes\n",
    "            self.grad_mag_['W1'].append(np.mean(np.abs(grad1)))\n",
    "            self.grad_mag_['W2'].append(np.mean(np.abs(grad2)))\n",
    "            self.grad_mag_['W3'].append(np.mean(np.abs(grad3)))\n",
    "            self.grad_mag_['W4'].append(np.mean(np.abs(grad4)))\n",
    "            self.grad_mag_['W5'].append(np.mean(np.abs(grad5)))\n",
    "\n",
    "            self.W1 -= self.eta * grad1\n",
    "            self.W2 -= self.eta * grad2\n",
    "            self.W3 -= self.eta * grad3\n",
    "            self.W4 -= self.eta * grad4\n",
    "            self.W5 -= self.eta * grad5\n",
    "\n",
    "        return self\n",
    "\n",
    "    def _cost(self, A6, Y_enc, W1, W2, W3, W4, W5):\n",
    "        \"\"\"Compute the cost function.\"\"\"\n",
    "        cost = np.mean((Y_enc - A6)**2)\n",
    "        L2_term = (self.l2_C * (np.sum(W1[:, 1:] ** 2) +\n",
    "                                np.sum(W2[:, 1:] ** 2) +\n",
    "                                np.sum(W3[:, 1:] ** 2) +\n",
    "                                np.sum(W4[:, 1:] ** 2) +\n",
    "                                np.sum(W5[:, 1:] ** 2)\n",
    "                                ))\n",
    "        return cost + L2_term\n",
    "\n",
    "    def plot_gradient_magnitudes(self):\n",
    "        \"\"\"Plot the average gradient magnitudes for each layer.\"\"\"\n",
    "        plt.plot(self.grad_mag_['W1'], label='W1', linestyle='-', marker='o')\n",
    "        plt.plot(self.grad_mag_['W2'], label='W2', linestyle='-', marker='s')\n",
    "        plt.plot(self.grad_mag_['W3'], label='W3', linestyle='-', marker='d')\n",
    "        plt.plot(self.grad_mag_['W4'], label='W4', linestyle='-', marker='x')\n",
    "        plt.plot(self.grad_mag_['W5'], label='W5', linestyle='-', marker='v')\n",
    "\n",
    "        plt.ylabel('Average Gradient Magnitude')\n",
    "        plt.xlabel('Epochs')\n",
    "        plt.legend(loc='upper right')\n",
    "        plt.grid()\n",
    "        plt.show()"
   ]
  },
  {
   "cell_type": "code",
   "execution_count": 650,
   "metadata": {},
   "outputs": [
    {
     "name": "stderr",
     "output_type": "stream",
     "text": [
      "Epoch: 1000/1000"
     ]
    },
    {
     "data": {
      "image/png": "[encoded data removed]",
      "text/plain": [
       "<Figure size 432x288 with 1 Axes>"
      ]
     },
     "metadata": {
      "needs_background": "light"
     },
     "output_type": "display_data"
    },
    {
     "name": "stdout",
     "output_type": "stream",
     "text": [
      "Accuracy: 73.29%\n"
     ]
    }
   ],
   "source": [
    "# run the five layer model\n",
    "nn = FiveLayerPerceptron(n_hidden1=50, n_hidden2=50, n_hidden3=30, n_hidden4=30, l2_C=0.0, epochs=1000, eta=0.001, random_state=1)\n",
    "nn.fit(X_train, y_train, print_progress=1)\n",
    "\n",
    "nn.plot_gradient_magnitudes()\n",
    "\n",
    "# Check the accuracy\n",
    "y_pred = nn.predict(X_test)\n",
    "y_pred = convert_data(y_pred)\n",
    "print('Accuracy: %.2f%%' % (100 * accuracy_score(y_test, y_pred)))"
   ]
  },
  {
   "attachments": {},
   "cell_type": "markdown",
   "metadata": {},
   "source": [
    "[2 points] Implement an adaptive learning technique that was discussed in lecture and use it on the five layer network (such as AdaGrad, RMSProps, or AdaDelta). Discuss which adaptive method you chose. Compare the performance of your five layer model with and without the adaptive learning strategy. Do not use AdaM for the adaptive learning technique as it is part of the exceptional work."
   ]
  },
  {
   "cell_type": "code",
   "execution_count": null,
   "metadata": {},
   "outputs": [],
   "source": []
  },
  {
   "attachments": {},
   "cell_type": "markdown",
   "metadata": {},
   "source": [
    "# Exceptional Work (1 points total)\n",
    "5000 level student: You have free reign to provide additional analyses.\n",
    "One idea (required for 7000 level students):  Implement adaptive momentum (AdaM) in the five layer neural network and quantify the performance. "
   ]
  },
  {
   "cell_type": "code",
   "execution_count": null,
   "metadata": {},
   "outputs": [],
   "source": []
  },
  {
   "cell_type": "markdown",
   "metadata": {},
   "source": []
  }
 ],
 "metadata": {
  "kernelspec": {
   "display_name": "mlenv",
   "language": "python",
   "name": "python3"
  },
  "language_info": {
   "codemirror_mode": {
    "name": "ipython",
    "version": 3
   },
   "file_extension": ".py",
   "mimetype": "text/x-python",
   "name": "python",
   "nbconvert_exporter": "python",
   "pygments_lexer": "ipython3",
   "version": "3.9.7"
  },
  "orig_nbformat": 4,
  "vscode": {
   "interpreter": {
    "hash": "4045ce629ca2404df8e09a4bb72649c60795682d1cc7b69b21add64452ef6fa4"
   }
  }
 },
 "nbformat": 4,
 "nbformat_minor": 2
}
